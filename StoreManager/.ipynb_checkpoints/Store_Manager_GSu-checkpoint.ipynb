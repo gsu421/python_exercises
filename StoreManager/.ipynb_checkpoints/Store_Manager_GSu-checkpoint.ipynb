{
 "cells": [
  {
   "cell_type": "code",
   "execution_count": 1,
   "metadata": {
    "collapsed": true
   },
   "outputs": [],
   "source": [
    "import os\n",
    "import csv\n",
    "\n",
    "csvpath = os.path.join(\"Resources/store_items.csv\")\n",
    "with open(csvpath, newline='') as csvfile:\n",
    "    csvreader = csv.reader(csvfile, delimiter=\",\")"
   ]
  },
  {
   "cell_type": "code",
   "execution_count": 2,
   "metadata": {
    "collapsed": true
   },
   "outputs": [],
   "source": [
    "sports_store = {\"snowboard\": 10, \"helment\": 15, \"gloves\": 5, \"binding\": 30, \"snacks\":{\"energy bar\": 5, \"granola bar\": 6, \"chewy\": 10}}\n"
   ]
  },
  {
   "cell_type": "code",
   "execution_count": 9,
   "metadata": {
    "collapsed": true
   },
   "outputs": [],
   "source": [
    "def add_an_item(item):\n",
    "    # if adding an existing item\n",
    "    if add_new_item in sports_store:\n",
    "            sports_store[item] = int(sports_store[item]) + int(increase_quantity)\n",
    "    # if adding a brand new item\n",
    "    else:\n",
    "            sports_store[item] = int(increase_quantity)    "
   ]
  },
  {
   "cell_type": "code",
   "execution_count": 10,
   "metadata": {},
   "outputs": [
    {
     "name": "stdout",
     "output_type": "stream",
     "text": [
      "What would you like to do? (A)dd a new item , (R)emove an existing one, or to (D)isplay all the items currently in stockr\n",
      "what item would you like to remove?helment\n",
      "Would you like to continue to work? (Y)es or (N)oY\n",
      "What would you like to do? (A)dd a new item , (R)emove an existing one, or to (D)isplay all the items currently in stockD\n",
      "snowboard: 15\n",
      "gloves: 5\n",
      "binding: 30\n",
      "snacks: {'energy bar': 5, 'granola bar': 6, 'chewy': 10}\n",
      "Would you like to continue to work? (Y)es or (N)on\n"
     ]
    }
   ],
   "source": [
    "manage_system = 'Y'\n",
    "while (manage_system.capitalize() == 'Y'):\n",
    "    action_item = input(\"What would you like to do? (A)dd a new item , (R)emove an existing one, or to (D)isplay all the items currently in stock\")   \n",
    "    if action_item.capitalize() == 'A':\n",
    "        add_new_item = input('what item would you like to add?')\n",
    "        increase_quantity = input('how many would you like to add?')\n",
    "        add_an_item(add_new_item)\n",
    "    elif action_item.capitalize() == 'R':\n",
    "        remove_item = input('what item would you like to remove?')\n",
    "        if remove_item in sports_store:\n",
    "            del sports_store[remove_item]\n",
    "        else:\n",
    "            print(\"itmes is not in the store\")\n",
    "    elif action_item.capitalize() == 'D':\n",
    "        for key, value in sports_store.items():\n",
    "            print(key + \": \" + str(value))\n",
    "    else:\n",
    "        print(\"Sorry the action is not available\")\n",
    "    manage_system = input('Would you like to continue to work? (Y)es or (N)o')"
   ]
  }
 ],
 "metadata": {
  "kernelspec": {
   "display_name": "Python 3",
   "language": "python",
   "name": "python3"
  }
 },
 "nbformat": 4,
 "nbformat_minor": 2
}
