{
 "cells": [
  {
   "cell_type": "code",
   "execution_count": 1,
   "metadata": {
    "collapsed": true
   },
   "outputs": [],
   "source": [
    "import random as rand"
   ]
  },
  {
   "cell_type": "code",
   "execution_count": 2,
   "metadata": {},
   "outputs": [],
   "source": [
    "def rpc_logic(comp, user):\n",
    "    RPC={'r': 'Rock', 'p': 'Paper', 's': 'Scissors'}\n",
    "    if (comp == 'r' and user.lower() == 'r'):\n",
    "        print(\"It's a tie\\nComputer's choice is %s, and yous is %s\" %(RPC[comp], RPC[user.lower()]))\n",
    "        \n",
    "    elif (comp == 'r' and user.lower() == 'p'):\n",
    "        print(\"You win!!!\\ncomputer's choice is %s, and yous is %s\" %(RPC[comp], RPC[user.lower()]))\n",
    "    \n",
    "    elif (comp == 'r' and user.lower() == 's'):\n",
    "        print(\"You lose!!!\\ncomputer's choice is %s, and yous is %s\" %(RPC[comp], RPC[user.lower()]))\n",
    "    \n",
    "    elif (comp == 'p' and user.lower() == 'r'):\n",
    "        print(\"You lose!!!\\ncomputer's choice is %s, and yous is %s\" %(RPC[comp], RPC[user.lower()]))\n",
    "        \n",
    "    elif (comp == 'p' and user.lower() == 'p'):\n",
    "        print(\"It's a tie\\ncomputer's choice is %s, and yous is %s\" %(RPC[comp], RPC[user.lower()]))\n",
    "        \n",
    "    elif (comp == 'p' and user.lower() == 's'):\n",
    "        print(\"You win!!!\\ncomputer's choice is %s, and yous is %s\" %(RPC[comp], RPC[user.lower()]))\n",
    "    \n",
    "    elif (comp == 's' and user.lower() == 'r'):\n",
    "        print(\"You win!!!\\ncomputer's choice is %s, and yous is %s\" %(RPC[comp], RPC[user.lower()]))\n",
    "        \n",
    "    elif (comp == 's' and user.lower() == 'p'):\n",
    "        print(\"You lose!!!\\ncomputer's choice is %s, and yous is %s\" %(RPC[comp], RPC[user.lower()]))\n",
    "        \n",
    "    elif (comp == 's' and user.lower() == 's'):\n",
    "        print(\"It's a tie\\ncomputer's choice is %s, and yous is %s\" %(RPC[comp], RPC[user.lower()]))\n",
    "    \n",
    "    else:\n",
    "        print('Your entry is not valid')"
   ]
  },
  {
   "cell_type": "code",
   "execution_count": 3,
   "metadata": {},
   "outputs": [
    {
     "name": "stdout",
     "output_type": "stream",
     "text": [
      "What's your choice? (R)ock, (P)aper, or (S)cissorsS\n",
      "It's a tie\n",
      "computer's choice is Scissors, and yous is Scissors\n",
      "Do you want to play again? (Y)es, (N)o ?N\n"
     ]
    }
   ],
   "source": [
    "# Prompt for question\n",
    "options = ['r','p', 's']\n",
    "comp = rand.choice(options)\n",
    "user = input(\"What's your choice? (R)ock, (P)aper, or (S)cissors\")\n",
    "\n",
    "continue_play = 'Y'\n",
    "while (continue_play.capitalize() == 'Y'):\n",
    "    rpc_logic(comp, user)\n",
    "    continue_play = input(\"Do you want to play again? (Y)es, (N)o ?\")\n",
    "    \n"
   ]
  },
  {
   "cell_type": "code",
   "execution_count": null,
   "metadata": {
    "collapsed": true
   },
   "outputs": [],
   "source": []
  }
 ],
 "metadata": {
  "kernelspec": {
   "display_name": "Python 3",
   "language": "python",
   "name": "python3"
  },
  "language_info": {
   "codemirror_mode": {
    "name": "ipython",
    "version": 3
   },
   "file_extension": ".py",
   "mimetype": "text/x-python",
   "name": "python",
   "nbconvert_exporter": "python",
   "pygments_lexer": "ipython3",
   "version": "3.6.3"
  }
 },
 "nbformat": 4,
 "nbformat_minor": 2
}
